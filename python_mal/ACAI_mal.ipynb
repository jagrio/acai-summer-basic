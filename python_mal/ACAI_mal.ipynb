{
 "cells": [
  {
   "cell_type": "code",
   "execution_count": null,
   "metadata": {
    "collapsed": true
   },
   "outputs": [],
   "source": [
    "# Extra information on possbile approaches you can implement:\n",
    "# https://ai.vub.ac.be/sites/default/files/RL%20in%20NFgames.pdf\n",
    "\n",
    "import matplotlib.pyplot as plt\n",
    "import matplotlib\n",
    "import random\n",
    "from mal import *\n",
    "\n",
    "%matplotlib inline"
   ]
  },
  {
   "cell_type": "code",
   "execution_count": null,
   "metadata": {
    "collapsed": false
   },
   "outputs": [],
   "source": [
    "EPISODES = 10000\n",
    "EPSILON = 0.1\n",
    "GAMMA = 0.9\n",
    "LEARNING_RATE = 0.1\n",
    "NOAGENTS = 3\n",
    "\n",
    "def argmax(l):\n",
    "    \"\"\" Return the index of the maximum element of a list\n",
    "    \"\"\"\n",
    "    return max(enumerate(l), key=lambda x:x[1])[0]"
   ]
  },
  {
   "cell_type": "code",
   "execution_count": null,
   "metadata": {
    "collapsed": false
   },
   "outputs": [],
   "source": [
    "# After implementing your learning algorithm in the vanilla environment\n",
    "# try to add additional noise for the agent payoffs\n",
    "# (such that the utility is a normal distribution)\n",
    "\n",
    "env = MatchingPennies(NOAGENTS)\n",
    "#env = Climbing(NOAGENTS)\n",
    "average_cumulative_reward = [0.0 for _ in range(0,NOAGENTS)]\n",
    "\n",
    "# Loop over episodes\n",
    "for i in range(EPISODES):\n",
    "    #YOUR CODE HERE\n",
    "    print(i)"
   ]
  },
  {
   "cell_type": "code",
   "execution_count": null,
   "metadata": {
    "collapsed": true
   },
   "outputs": [],
   "source": []
  }
 ],
 "metadata": {
  "kernelspec": {
   "display_name": "Python 3",
   "language": "python",
   "name": "python3"
  },
  "language_info": {
   "codemirror_mode": {
    "name": "ipython",
    "version": 3
   },
   "file_extension": ".py",
   "mimetype": "text/x-python",
   "name": "python",
   "nbconvert_exporter": "python",
   "pygments_lexer": "ipython3",
   "version": "3.5.3"
  }
 },
 "nbformat": 4,
 "nbformat_minor": 1
}
