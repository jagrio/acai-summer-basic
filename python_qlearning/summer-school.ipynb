{
 "cells": [
  {
   "cell_type": "code",
   "execution_count": 4,
   "metadata": {},
   "outputs": [],
   "source": [
    "import csv\n",
    "import pandas as pd\n",
    "import matplotlib.pyplot as plt\n",
    "import matplotlib\n",
    "import numpy as np\n",
    "import gym, gridworlds\n",
    "matplotlib.style.use('ggplot')\n",
    "\n",
    "%matplotlib inline"
   ]
  },
  {
   "cell_type": "code",
   "execution_count": 5,
   "metadata": {},
   "outputs": [
    {
     "name": "stderr",
     "output_type": "stream",
     "text": [
      "[2017-10-09 15:44:01,513] Making new env: gridworld-v0\n"
     ]
    },
    {
     "name": "stdout",
     "output_type": "stream",
     "text": [
      "+-------+\n",
      "| : : :*|\n",
      "| :c: :c|\n",
      "| : :r:c|\n",
      "|x:c:c:c|\n",
      "+-------+\n",
      "\n"
     ]
    }
   ],
   "source": [
    "env = gym.make(\"gridworld-v0\")\n",
    "env.render()"
   ]
  },
  {
   "cell_type": "code",
   "execution_count": 6,
   "metadata": {},
   "outputs": [],
   "source": [
    "def render_P(envP):\n",
    "    nS, nA = len(envP), len(envP[0])\n",
    "    P, R = np.zeros([nS, nA, nS]), np.zeros([nS, nA])\n",
    "    \n",
    "    for s in range(nS):\n",
    "        for a in range(nA):\n",
    "            for next_s in range(len(envP[s][a])):\n",
    "                sp = envP[s][a][next_s][1]\n",
    "                P[s,a,sp] = envP[s][a][next_s][0]\n",
    "                R[s,a] = envP[s][a][0][2]\n",
    "    return P, R"
   ]
  },
  {
   "cell_type": "code",
   "execution_count": 7,
   "metadata": {},
   "outputs": [],
   "source": [
    "def construct_matrices(P, R, pi):\n",
    "    nS, nA = len(P), len(P[0])\n",
    "    P_pi = np.zeros([nS, nS])\n",
    "    R_pi = np.sum(np.multiply(pi, R), axis=1)\n",
    "    for s in range(nS):\n",
    "        P_pi[s,:] = np.dot(pi, P[s,:,:])\n",
    "    return R_pi, P_pi\n",
    "\n",
    "def solve_MDP(P, R, pi, gamma):\n",
    "    R_pi, P_pi = construct_matrices(P, R, pi)\n",
    "    I = np.eye(len(R_pi))\n",
    "    resolvent = np.linalg.inv(I - gamma * P_pi)\n",
    "    v = np.dot(resolvent, R_pi)\n",
    "    q = R + np.dot(P, v) #np.tile(np.dot(P_pi, self.v_target), (1, 4))\n",
    "    return v, q"
   ]
  },
  {
   "cell_type": "code",
   "execution_count": 8,
   "metadata": {},
   "outputs": [],
   "source": [
    "P, R = render_P(env.unwrapped.P)"
   ]
  },
  {
   "cell_type": "code",
   "execution_count": 9,
   "metadata": {},
   "outputs": [],
   "source": [
    "DOWN, UP, RIGHT, LEFT = 0, 1, 2, 3 # the order in the environment\n",
    "pi = [0, 0.5, 0.5, 0]\n",
    "gamma = 0.9"
   ]
  },
  {
   "cell_type": "code",
   "execution_count": 10,
   "metadata": {},
   "outputs": [],
   "source": [
    "v, q = solve_MDP(P, R, pi, gamma)"
   ]
  },
  {
   "cell_type": "code",
   "execution_count": 11,
   "metadata": {},
   "outputs": [],
   "source": [
    "def render_into_grid(v, env):\n",
    "    nS = len(v)\n",
    "    v_grid = np.zeros([env.nR, env.nC])\n",
    "    for s in range(nS):\n",
    "        row, col = env.decode(s)\n",
    "        if row < env.nR and col < env.nC:\n",
    "            v_grid[row, col] = v[s]\n",
    "    return v_grid"
   ]
  },
  {
   "cell_type": "code",
   "execution_count": 12,
   "metadata": {},
   "outputs": [
    {
     "data": {
      "text/plain": [
       "array([   3.74871076,    3.3084556 ,    2.30179028,  100.        ,\n",
       "         -4.41565401,  -10.        ,   -0.17320972,  -10.        ,\n",
       "         -0.31033563,    4.01873794,   19.75274313,  -10.        ,\n",
       "         -4.54832249,  -10.        ,  -10.        ,  -10.        ,    0.        ])"
      ]
     },
     "execution_count": 12,
     "metadata": {},
     "output_type": "execute_result"
    }
   ],
   "source": [
    "v"
   ]
  },
  {
   "cell_type": "code",
   "execution_count": 13,
   "metadata": {},
   "outputs": [],
   "source": [
    "v_grid = render_into_grid(v, env.unwrapped)"
   ]
  },
  {
   "cell_type": "code",
   "execution_count": 14,
   "metadata": {},
   "outputs": [
    {
     "data": {
      "text/plain": [
       "<matplotlib.colorbar.Colorbar at 0x7f9dd9106f60>"
      ]
     },
     "execution_count": 14,
     "metadata": {},
     "output_type": "execute_result"
    },
    {
     "data": {
      "image/png": "[encoded data removed]",
      "text/plain": [
       "<matplotlib.figure.Figure at 0x7f9dd91387f0>"
      ]
     },
     "metadata": {},
     "output_type": "display_data"
    }
   ],
   "source": [
    "plt.imshow(v_grid)\n",
    "plt.colorbar()"
   ]
  },
  {
   "cell_type": "code",
   "execution_count": null,
   "metadata": {
    "collapsed": true
   },
   "outputs": [],
   "source": []
  },
  {
   "cell_type": "code",
   "execution_count": null,
   "metadata": {
    "collapsed": true
   },
   "outputs": [],
   "source": []
  }
 ],
 "metadata": {
  "kernelspec": {
   "display_name": "Python 3",
   "language": "python",
   "name": "python3"
  },
  "language_info": {
   "codemirror_mode": {
    "name": "ipython",
    "version": 3
   },
   "file_extension": ".py",
   "mimetype": "text/x-python",
   "name": "python",
   "nbconvert_exporter": "python",
   "pygments_lexer": "ipython3",
   "version": "3.6.2"
  }
 },
 "nbformat": 4,
 "nbformat_minor": 1
}
